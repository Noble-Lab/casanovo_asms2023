{
  "nbformat": 4,
  "nbformat_minor": 0,
  "metadata": {
    "colab": {
      "provenance": [],
      "gpuType": "T4",
      "authorship_tag": "ABX9TyNMccdGhG7LUtnC0Srpq3R3",
      "include_colab_link": true
    },
    "kernelspec": {
      "name": "python3",
      "display_name": "Python 3"
    },
    "language_info": {
      "name": "python"
    },
    "accelerator": "GPU"
  },
  "cells": [
    {
      "cell_type": "markdown",
      "metadata": {
        "id": "view-in-github",
        "colab_type": "text"
      },
      "source": [
        "<a href=\"https://colab.research.google.com/github/Noble-Lab/casanovo_asms2023/blob/main/Casanovo_Tutorial.ipynb\" target=\"_parent\"><img src=\"https://colab.research.google.com/assets/colab-badge.svg\" alt=\"Open In Colab\"/></a>"
      ]
    },
    {
      "cell_type": "markdown",
      "source": [
        "## Installation"
      ],
      "metadata": {
        "id": "O6c6Gsr10y0c"
      }
    },
    {
      "cell_type": "markdown",
      "source": [
        "* Use `pip` to easily install the latest version of Casanovo."
      ],
      "metadata": {
        "id": "-8yGNecg05Cx"
      }
    },
    {
      "cell_type": "code",
      "source": [
        "!pip install casanovo"
      ],
      "metadata": {
        "colab": {
          "base_uri": "https://localhost:8080/"
        },
        "id": "cUhG-aZC5-Fw",
        "outputId": "7eaf78b4-45c3-494d-cabe-3fa073497d2c"
      },
      "execution_count": 1,
      "outputs": [
        {
          "output_type": "stream",
          "name": "stdout",
          "text": [
            "Looking in indexes: https://pypi.org/simple, https://us-python.pkg.dev/colab-wheels/public/simple/\n",
            "Collecting casanovo\n",
            "  Downloading casanovo-3.3.0-py3-none-any.whl (41 kB)\n",
            "\u001b[2K     \u001b[90m━━━━━━━━━━━━━━━━━━━━━━━━━━━━━━━━━━━━━━━━\u001b[0m \u001b[32m41.4/41.4 kB\u001b[0m \u001b[31m2.5 MB/s\u001b[0m eta \u001b[36m0:00:00\u001b[0m\n",
            "\u001b[?25hRequirement already satisfied: appdirs in /usr/local/lib/python3.10/dist-packages (from casanovo) (1.4.4)\n",
            "Requirement already satisfied: click in /usr/local/lib/python3.10/dist-packages (from casanovo) (8.1.3)\n",
            "Collecting depthcharge-ms<0.2.0,>=0.1.0 (from casanovo)\n",
            "  Downloading depthcharge_ms-0.1.0-py3-none-any.whl (33 kB)\n",
            "Requirement already satisfied: natsort in /usr/local/lib/python3.10/dist-packages (from casanovo) (8.3.1)\n",
            "Requirement already satisfied: numpy in /usr/local/lib/python3.10/dist-packages (from casanovo) (1.22.4)\n",
            "Requirement already satisfied: pandas in /usr/local/lib/python3.10/dist-packages (from casanovo) (1.5.3)\n",
            "Requirement already satisfied: psutil in /usr/local/lib/python3.10/dist-packages (from casanovo) (5.9.5)\n",
            "Collecting PyGithub (from casanovo)\n",
            "  Downloading PyGithub-1.58.2-py3-none-any.whl (312 kB)\n",
            "\u001b[2K     \u001b[90m━━━━━━━━━━━━━━━━━━━━━━━━━━━━━━━━━━━━━━\u001b[0m \u001b[32m312.5/312.5 kB\u001b[0m \u001b[31m11.7 MB/s\u001b[0m eta \u001b[36m0:00:00\u001b[0m\n",
            "\u001b[?25hCollecting pytorch-lightning<2.0,>=1.7 (from casanovo)\n",
            "  Downloading pytorch_lightning-1.9.5-py3-none-any.whl (829 kB)\n",
            "\u001b[2K     \u001b[90m━━━━━━━━━━━━━━━━━━━━━━━━━━━━━━━━━━━━━━\u001b[0m \u001b[32m829.5/829.5 kB\u001b[0m \u001b[31m40.4 MB/s\u001b[0m eta \u001b[36m0:00:00\u001b[0m\n",
            "\u001b[?25hRequirement already satisfied: PyYAML in /usr/local/lib/python3.10/dist-packages (from casanovo) (6.0)\n",
            "Requirement already satisfied: requests in /usr/local/lib/python3.10/dist-packages (from casanovo) (2.27.1)\n",
            "Requirement already satisfied: scikit-learn in /usr/local/lib/python3.10/dist-packages (from casanovo) (1.2.2)\n",
            "Collecting spectrum-utils (from casanovo)\n",
            "  Downloading spectrum_utils-0.4.2-py3-none-any.whl (45 kB)\n",
            "\u001b[2K     \u001b[90m━━━━━━━━━━━━━━━━━━━━━━━━━━━━━━━━━━━━━━━━\u001b[0m \u001b[32m45.5/45.5 kB\u001b[0m \u001b[31m5.9 MB/s\u001b[0m eta \u001b[36m0:00:00\u001b[0m\n",
            "\u001b[?25hRequirement already satisfied: tensorboard in /usr/local/lib/python3.10/dist-packages (from casanovo) (2.12.2)\n",
            "Requirement already satisfied: torch>=1.9 in /usr/local/lib/python3.10/dist-packages (from casanovo) (2.0.1+cu118)\n",
            "Requirement already satisfied: tqdm in /usr/local/lib/python3.10/dist-packages (from casanovo) (4.65.0)\n",
            "Collecting pyteomics>=4.4.2 (from depthcharge-ms<0.2.0,>=0.1.0->casanovo)\n",
            "  Downloading pyteomics-4.6-py2.py3-none-any.whl (235 kB)\n",
            "\u001b[2K     \u001b[90m━━━━━━━━━━━━━━━━━━━━━━━━━━━━━━━━━━━━━━\u001b[0m \u001b[32m235.1/235.1 kB\u001b[0m \u001b[31m28.1 MB/s\u001b[0m eta \u001b[36m0:00:00\u001b[0m\n",
            "\u001b[?25hRequirement already satisfied: numba>=0.48.0 in /usr/local/lib/python3.10/dist-packages (from depthcharge-ms<0.2.0,>=0.1.0->casanovo) (0.56.4)\n",
            "Requirement already satisfied: lxml>=4.9.1 in /usr/local/lib/python3.10/dist-packages (from depthcharge-ms<0.2.0,>=0.1.0->casanovo) (4.9.2)\n",
            "Requirement already satisfied: h5py>=3.7.0 in /usr/local/lib/python3.10/dist-packages (from depthcharge-ms<0.2.0,>=0.1.0->casanovo) (3.8.0)\n",
            "Collecting einops>=0.4.1 (from depthcharge-ms<0.2.0,>=0.1.0->casanovo)\n",
            "  Downloading einops-0.6.1-py3-none-any.whl (42 kB)\n",
            "\u001b[2K     \u001b[90m━━━━━━━━━━━━━━━━━━━━━━━━━━━━━━━━━━━━━━━━\u001b[0m \u001b[32m42.2/42.2 kB\u001b[0m \u001b[31m5.6 MB/s\u001b[0m eta \u001b[36m0:00:00\u001b[0m\n",
            "\u001b[?25hRequirement already satisfied: python-dateutil>=2.8.1 in /usr/local/lib/python3.10/dist-packages (from pandas->casanovo) (2.8.2)\n",
            "Requirement already satisfied: pytz>=2020.1 in /usr/local/lib/python3.10/dist-packages (from pandas->casanovo) (2022.7.1)\n",
            "Requirement already satisfied: fsspec[http]>2021.06.0 in /usr/local/lib/python3.10/dist-packages (from pytorch-lightning<2.0,>=1.7->casanovo) (2023.4.0)\n",
            "Collecting torchmetrics>=0.7.0 (from pytorch-lightning<2.0,>=1.7->casanovo)\n",
            "  Downloading torchmetrics-0.11.4-py3-none-any.whl (519 kB)\n",
            "\u001b[2K     \u001b[90m━━━━━━━━━━━━━━━━━━━━━━━━━━━━━━━━━━━━━━\u001b[0m \u001b[32m519.2/519.2 kB\u001b[0m \u001b[31m42.2 MB/s\u001b[0m eta \u001b[36m0:00:00\u001b[0m\n",
            "\u001b[?25hRequirement already satisfied: packaging>=17.1 in /usr/local/lib/python3.10/dist-packages (from pytorch-lightning<2.0,>=1.7->casanovo) (23.1)\n",
            "Requirement already satisfied: typing-extensions>=4.0.0 in /usr/local/lib/python3.10/dist-packages (from pytorch-lightning<2.0,>=1.7->casanovo) (4.5.0)\n",
            "Collecting lightning-utilities>=0.6.0.post0 (from pytorch-lightning<2.0,>=1.7->casanovo)\n",
            "  Downloading lightning_utilities-0.8.0-py3-none-any.whl (20 kB)\n",
            "Requirement already satisfied: filelock in /usr/local/lib/python3.10/dist-packages (from torch>=1.9->casanovo) (3.12.0)\n",
            "Requirement already satisfied: sympy in /usr/local/lib/python3.10/dist-packages (from torch>=1.9->casanovo) (1.11.1)\n",
            "Requirement already satisfied: networkx in /usr/local/lib/python3.10/dist-packages (from torch>=1.9->casanovo) (3.1)\n",
            "Requirement already satisfied: jinja2 in /usr/local/lib/python3.10/dist-packages (from torch>=1.9->casanovo) (3.1.2)\n",
            "Requirement already satisfied: triton==2.0.0 in /usr/local/lib/python3.10/dist-packages (from torch>=1.9->casanovo) (2.0.0)\n",
            "Requirement already satisfied: cmake in /usr/local/lib/python3.10/dist-packages (from triton==2.0.0->torch>=1.9->casanovo) (3.25.2)\n",
            "Requirement already satisfied: lit in /usr/local/lib/python3.10/dist-packages (from triton==2.0.0->torch>=1.9->casanovo) (16.0.5)\n",
            "Collecting deprecated (from PyGithub->casanovo)\n",
            "  Downloading Deprecated-1.2.14-py2.py3-none-any.whl (9.6 kB)\n",
            "Collecting pyjwt[crypto]>=2.4.0 (from PyGithub->casanovo)\n",
            "  Downloading PyJWT-2.7.0-py3-none-any.whl (22 kB)\n",
            "Collecting pynacl>=1.4.0 (from PyGithub->casanovo)\n",
            "  Downloading PyNaCl-1.5.0-cp36-abi3-manylinux_2_17_x86_64.manylinux2014_x86_64.manylinux_2_24_x86_64.whl (856 kB)\n",
            "\u001b[2K     \u001b[90m━━━━━━━━━━━━━━━━━━━━━━━━━━━━━━━━━━━━━━\u001b[0m \u001b[32m856.7/856.7 kB\u001b[0m \u001b[31m68.0 MB/s\u001b[0m eta \u001b[36m0:00:00\u001b[0m\n",
            "\u001b[?25hRequirement already satisfied: urllib3<1.27,>=1.21.1 in /usr/local/lib/python3.10/dist-packages (from requests->casanovo) (1.26.15)\n",
            "Requirement already satisfied: certifi>=2017.4.17 in /usr/local/lib/python3.10/dist-packages (from requests->casanovo) (2022.12.7)\n",
            "Requirement already satisfied: charset-normalizer~=2.0.0 in /usr/local/lib/python3.10/dist-packages (from requests->casanovo) (2.0.12)\n",
            "Requirement already satisfied: idna<4,>=2.5 in /usr/local/lib/python3.10/dist-packages (from requests->casanovo) (3.4)\n",
            "Requirement already satisfied: scipy>=1.3.2 in /usr/local/lib/python3.10/dist-packages (from scikit-learn->casanovo) (1.10.1)\n",
            "Requirement already satisfied: joblib>=1.1.1 in /usr/local/lib/python3.10/dist-packages (from scikit-learn->casanovo) (1.2.0)\n",
            "Requirement already satisfied: threadpoolctl>=2.0.0 in /usr/local/lib/python3.10/dist-packages (from scikit-learn->casanovo) (3.1.0)\n",
            "Collecting fastobo (from spectrum-utils->casanovo)\n",
            "  Downloading fastobo-0.12.2-cp310-cp310-manylinux_2_17_x86_64.manylinux2014_x86_64.whl (2.1 MB)\n",
            "\u001b[2K     \u001b[90m━━━━━━━━━━━━━━━━━━━━━━━━━━━━━━━━━━━━━━━━\u001b[0m \u001b[32m2.1/2.1 MB\u001b[0m \u001b[31m95.8 MB/s\u001b[0m eta \u001b[36m0:00:00\u001b[0m\n",
            "\u001b[?25hCollecting lark>=1.0 (from spectrum-utils->casanovo)\n",
            "  Downloading lark-1.1.5-py3-none-any.whl (107 kB)\n",
            "\u001b[2K     \u001b[90m━━━━━━━━━━━━━━━━━━━━━━━━━━━━━━━━━━━━━━\u001b[0m \u001b[32m108.0/108.0 kB\u001b[0m \u001b[31m15.4 MB/s\u001b[0m eta \u001b[36m0:00:00\u001b[0m\n",
            "\u001b[?25hRequirement already satisfied: matplotlib>=3.5 in /usr/local/lib/python3.10/dist-packages (from spectrum-utils->casanovo) (3.7.1)\n",
            "Requirement already satisfied: absl-py>=0.4 in /usr/local/lib/python3.10/dist-packages (from tensorboard->casanovo) (1.4.0)\n",
            "Requirement already satisfied: grpcio>=1.48.2 in /usr/local/lib/python3.10/dist-packages (from tensorboard->casanovo) (1.54.0)\n",
            "Requirement already satisfied: google-auth<3,>=1.6.3 in /usr/local/lib/python3.10/dist-packages (from tensorboard->casanovo) (2.17.3)\n",
            "Requirement already satisfied: google-auth-oauthlib<1.1,>=0.5 in /usr/local/lib/python3.10/dist-packages (from tensorboard->casanovo) (1.0.0)\n",
            "Requirement already satisfied: markdown>=2.6.8 in /usr/local/lib/python3.10/dist-packages (from tensorboard->casanovo) (3.4.3)\n",
            "Requirement already satisfied: protobuf>=3.19.6 in /usr/local/lib/python3.10/dist-packages (from tensorboard->casanovo) (3.20.3)\n",
            "Requirement already satisfied: setuptools>=41.0.0 in /usr/local/lib/python3.10/dist-packages (from tensorboard->casanovo) (67.7.2)\n",
            "Requirement already satisfied: tensorboard-data-server<0.8.0,>=0.7.0 in /usr/local/lib/python3.10/dist-packages (from tensorboard->casanovo) (0.7.0)\n",
            "Requirement already satisfied: tensorboard-plugin-wit>=1.6.0 in /usr/local/lib/python3.10/dist-packages (from tensorboard->casanovo) (1.8.1)\n",
            "Requirement already satisfied: werkzeug>=1.0.1 in /usr/local/lib/python3.10/dist-packages (from tensorboard->casanovo) (2.3.0)\n",
            "Requirement already satisfied: wheel>=0.26 in /usr/local/lib/python3.10/dist-packages (from tensorboard->casanovo) (0.40.0)\n",
            "Collecting aiohttp!=4.0.0a0,!=4.0.0a1 (from fsspec[http]>2021.06.0->pytorch-lightning<2.0,>=1.7->casanovo)\n",
            "  Downloading aiohttp-3.8.4-cp310-cp310-manylinux_2_17_x86_64.manylinux2014_x86_64.whl (1.0 MB)\n",
            "\u001b[2K     \u001b[90m━━━━━━━━━━━━━━━━━━━━━━━━━━━━━━━━━━━━━━━━\u001b[0m \u001b[32m1.0/1.0 MB\u001b[0m \u001b[31m73.2 MB/s\u001b[0m eta \u001b[36m0:00:00\u001b[0m\n",
            "\u001b[?25hRequirement already satisfied: cachetools<6.0,>=2.0.0 in /usr/local/lib/python3.10/dist-packages (from google-auth<3,>=1.6.3->tensorboard->casanovo) (5.3.0)\n",
            "Requirement already satisfied: pyasn1-modules>=0.2.1 in /usr/local/lib/python3.10/dist-packages (from google-auth<3,>=1.6.3->tensorboard->casanovo) (0.3.0)\n",
            "Requirement already satisfied: six>=1.9.0 in /usr/local/lib/python3.10/dist-packages (from google-auth<3,>=1.6.3->tensorboard->casanovo) (1.16.0)\n",
            "Requirement already satisfied: rsa<5,>=3.1.4 in /usr/local/lib/python3.10/dist-packages (from google-auth<3,>=1.6.3->tensorboard->casanovo) (4.9)\n",
            "Requirement already satisfied: requests-oauthlib>=0.7.0 in /usr/local/lib/python3.10/dist-packages (from google-auth-oauthlib<1.1,>=0.5->tensorboard->casanovo) (1.3.1)\n",
            "Requirement already satisfied: contourpy>=1.0.1 in /usr/local/lib/python3.10/dist-packages (from matplotlib>=3.5->spectrum-utils->casanovo) (1.0.7)\n",
            "Requirement already satisfied: cycler>=0.10 in /usr/local/lib/python3.10/dist-packages (from matplotlib>=3.5->spectrum-utils->casanovo) (0.11.0)\n",
            "Requirement already satisfied: fonttools>=4.22.0 in /usr/local/lib/python3.10/dist-packages (from matplotlib>=3.5->spectrum-utils->casanovo) (4.39.3)\n",
            "Requirement already satisfied: kiwisolver>=1.0.1 in /usr/local/lib/python3.10/dist-packages (from matplotlib>=3.5->spectrum-utils->casanovo) (1.4.4)\n",
            "Requirement already satisfied: pillow>=6.2.0 in /usr/local/lib/python3.10/dist-packages (from matplotlib>=3.5->spectrum-utils->casanovo) (8.4.0)\n",
            "Requirement already satisfied: pyparsing>=2.3.1 in /usr/local/lib/python3.10/dist-packages (from matplotlib>=3.5->spectrum-utils->casanovo) (3.0.9)\n",
            "Requirement already satisfied: llvmlite<0.40,>=0.39.0dev0 in /usr/local/lib/python3.10/dist-packages (from numba>=0.48.0->depthcharge-ms<0.2.0,>=0.1.0->casanovo) (0.39.1)\n",
            "Requirement already satisfied: cryptography>=3.4.0 in /usr/local/lib/python3.10/dist-packages (from pyjwt[crypto]>=2.4.0->PyGithub->casanovo) (40.0.2)\n",
            "Requirement already satisfied: cffi>=1.4.1 in /usr/local/lib/python3.10/dist-packages (from pynacl>=1.4.0->PyGithub->casanovo) (1.15.1)\n",
            "Requirement already satisfied: MarkupSafe>=2.1.1 in /usr/local/lib/python3.10/dist-packages (from werkzeug>=1.0.1->tensorboard->casanovo) (2.1.2)\n",
            "Requirement already satisfied: wrapt<2,>=1.10 in /usr/local/lib/python3.10/dist-packages (from deprecated->PyGithub->casanovo) (1.14.1)\n",
            "Requirement already satisfied: mpmath>=0.19 in /usr/local/lib/python3.10/dist-packages (from sympy->torch>=1.9->casanovo) (1.3.0)\n",
            "Requirement already satisfied: attrs>=17.3.0 in /usr/local/lib/python3.10/dist-packages (from aiohttp!=4.0.0a0,!=4.0.0a1->fsspec[http]>2021.06.0->pytorch-lightning<2.0,>=1.7->casanovo) (23.1.0)\n",
            "Collecting multidict<7.0,>=4.5 (from aiohttp!=4.0.0a0,!=4.0.0a1->fsspec[http]>2021.06.0->pytorch-lightning<2.0,>=1.7->casanovo)\n",
            "  Downloading multidict-6.0.4-cp310-cp310-manylinux_2_17_x86_64.manylinux2014_x86_64.whl (114 kB)\n",
            "\u001b[2K     \u001b[90m━━━━━━━━━━━━━━━━━━━━━━━━━━━━━━━━━━━━━━━\u001b[0m \u001b[32m114.5/114.5 kB\u001b[0m \u001b[31m8.1 MB/s\u001b[0m eta \u001b[36m0:00:00\u001b[0m\n",
            "\u001b[?25hCollecting async-timeout<5.0,>=4.0.0a3 (from aiohttp!=4.0.0a0,!=4.0.0a1->fsspec[http]>2021.06.0->pytorch-lightning<2.0,>=1.7->casanovo)\n",
            "  Downloading async_timeout-4.0.2-py3-none-any.whl (5.8 kB)\n",
            "Collecting yarl<2.0,>=1.0 (from aiohttp!=4.0.0a0,!=4.0.0a1->fsspec[http]>2021.06.0->pytorch-lightning<2.0,>=1.7->casanovo)\n",
            "  Downloading yarl-1.9.2-cp310-cp310-manylinux_2_17_x86_64.manylinux2014_x86_64.whl (268 kB)\n",
            "\u001b[2K     \u001b[90m━━━━━━━━━━━━━━━━━━━━━━━━━━━━━━━━━━━━━━\u001b[0m \u001b[32m268.8/268.8 kB\u001b[0m \u001b[31m27.4 MB/s\u001b[0m eta \u001b[36m0:00:00\u001b[0m\n",
            "\u001b[?25hCollecting frozenlist>=1.1.1 (from aiohttp!=4.0.0a0,!=4.0.0a1->fsspec[http]>2021.06.0->pytorch-lightning<2.0,>=1.7->casanovo)\n",
            "  Downloading frozenlist-1.3.3-cp310-cp310-manylinux_2_5_x86_64.manylinux1_x86_64.manylinux_2_17_x86_64.manylinux2014_x86_64.whl (149 kB)\n",
            "\u001b[2K     \u001b[90m━━━━━━━━━━━━━━━━━━━━━━━━━━━━━━━━━━━━━━\u001b[0m \u001b[32m149.6/149.6 kB\u001b[0m \u001b[31m11.0 MB/s\u001b[0m eta \u001b[36m0:00:00\u001b[0m\n",
            "\u001b[?25hCollecting aiosignal>=1.1.2 (from aiohttp!=4.0.0a0,!=4.0.0a1->fsspec[http]>2021.06.0->pytorch-lightning<2.0,>=1.7->casanovo)\n",
            "  Downloading aiosignal-1.3.1-py3-none-any.whl (7.6 kB)\n",
            "Requirement already satisfied: pycparser in /usr/local/lib/python3.10/dist-packages (from cffi>=1.4.1->pynacl>=1.4.0->PyGithub->casanovo) (2.21)\n",
            "Requirement already satisfied: pyasn1<0.6.0,>=0.4.6 in /usr/local/lib/python3.10/dist-packages (from pyasn1-modules>=0.2.1->google-auth<3,>=1.6.3->tensorboard->casanovo) (0.5.0)\n",
            "Requirement already satisfied: oauthlib>=3.0.0 in /usr/local/lib/python3.10/dist-packages (from requests-oauthlib>=0.7.0->google-auth-oauthlib<1.1,>=0.5->tensorboard->casanovo) (3.2.2)\n",
            "Installing collected packages: pyteomics, lark, pyjwt, multidict, lightning-utilities, frozenlist, fastobo, einops, deprecated, async-timeout, yarl, pynacl, aiosignal, spectrum-utils, aiohttp, PyGithub, torchmetrics, pytorch-lightning, depthcharge-ms, casanovo\n",
            "Successfully installed PyGithub-1.58.2 aiohttp-3.8.4 aiosignal-1.3.1 async-timeout-4.0.2 casanovo-3.3.0 deprecated-1.2.14 depthcharge-ms-0.1.0 einops-0.6.1 fastobo-0.12.2 frozenlist-1.3.3 lark-1.1.5 lightning-utilities-0.8.0 multidict-6.0.4 pyjwt-2.7.0 pynacl-1.5.0 pyteomics-4.6 pytorch-lightning-1.9.5 spectrum-utils-0.4.2 torchmetrics-0.11.4 yarl-1.9.2\n"
          ]
        }
      ]
    },
    {
      "cell_type": "markdown",
      "source": [
        "* Use `pip` to easily install the latest version of Casanovo.After installation, test that it was successful by viewing the Casanovo command line interface help:"
      ],
      "metadata": {
        "id": "1ZI5bqgBf2N_"
      }
    },
    {
      "cell_type": "code",
      "source": [
        "!casanovo --help"
      ],
      "metadata": {
        "colab": {
          "base_uri": "https://localhost:8080/"
        },
        "id": "9tze0TC66A5Q",
        "outputId": "862eb824-ef5c-4b01-f7a6-fffa3705709e"
      },
      "execution_count": 2,
      "outputs": [
        {
          "output_type": "stream",
          "name": "stdout",
          "text": [
            "2023-05-31 07:12:55.490140: I tensorflow/core/platform/cpu_feature_guard.cc:182] This TensorFlow binary is optimized to use available CPU instructions in performance-critical operations.\n",
            "To enable the following instructions: AVX2 FMA, in other operations, rebuild TensorFlow with the appropriate compiler flags.\n",
            "2023-05-31 07:12:56.352900: W tensorflow/compiler/tf2tensorrt/utils/py_utils.cc:38] TF-TRT Warning: Could not find TensorRT\n",
            "Usage: casanovo [OPTIONS]\n",
            "\n",
            "  Casanovo: De novo mass spectrometry peptide sequencing with a transformer model.\n",
            "  ================================================================================\n",
            "\n",
            "  Yilmaz, M., Fondrie, W. E., Bittremieux, W., Oh,\n",
            "  S. & Noble, W. S. De novo mass spectrometry\n",
            "  peptide sequencing with a transformer model.\n",
            "  Proceedings of the 39th International Conference\n",
            "  on Machine Learning - ICML '22 (2022)\n",
            "  doi:10.1101/2022.02.07.479481.\n",
            "\n",
            "  Official code website: https://github.com/Noble-\n",
            "  Lab/casanovo\n",
            "\n",
            "Options:\n",
            "  --mode [denovo|train|eval]  The mode in which to run Casanovo:\n",
            "                              - \"denovo\" will predict peptide sequences for\n",
            "                              unknown MS/MS spectra.\n",
            "                              - \"train\" will train a model (from scratch or by\n",
            "                              continuing training a previously trained model).\n",
            "                              - \"eval\" will evaluate the performance of a\n",
            "                              trained model using previously acquired spectrum\n",
            "                              annotations.  [required]\n",
            "  --model FILE                The file name of the\n",
            "                              model weights (.ckpt\n",
            "                              file).\n",
            "  --peak_path TEXT            The file path with\n",
            "                              peak files for\n",
            "                              predicting peptide\n",
            "                              sequences or\n",
            "                              training Casanovo.\n",
            "                              [required]\n",
            "  --peak_path_val TEXT        The file path with\n",
            "                              peak files to be\n",
            "                              used as validation\n",
            "                              data during\n",
            "                              training.\n",
            "  --config FILE               The file name of the\n",
            "                              configuration file\n",
            "                              with custom options.\n",
            "                              If not specified, a\n",
            "                              default\n",
            "                              configuration will\n",
            "                              be used.\n",
            "  --output FILE               The base output file\n",
            "                              name to store\n",
            "                              logging (extension:\n",
            "                              .log) and\n",
            "                              (optionally)\n",
            "                              prediction results\n",
            "                              (extension: .csv).\n",
            "  --help                      Show this message\n",
            "                              and exit.\n"
          ]
        }
      ]
    },
    {
      "cell_type": "markdown",
      "source": [
        "## Sequence new mass spectra\n"
      ],
      "metadata": {
        "id": "4Ux8PyRCga01"
      }
    },
    {
      "cell_type": "markdown",
      "source": [
        "* Download a sample MGF file with 128 MS/MS spectra"
      ],
      "metadata": {
        "id": "QEflF0UdgkF8"
      }
    },
    {
      "cell_type": "code",
      "source": [
        "!wget https://noble.gs.washington.edu/~melih/one_psm.mgf"
      ],
      "metadata": {
        "colab": {
          "base_uri": "https://localhost:8080/"
        },
        "id": "0lHT_3vIfPXH",
        "outputId": "9e2923ab-7160-4ebd-ae26-527e0cab7dbe"
      },
      "execution_count": 17,
      "outputs": [
        {
          "output_type": "stream",
          "name": "stdout",
          "text": [
            "--2023-05-31 17:56:54--  https://noble.gs.washington.edu/~melih/one_psm.mgf\n",
            "Resolving noble.gs.washington.edu (noble.gs.washington.edu)... 128.95.55.224\n",
            "Connecting to noble.gs.washington.edu (noble.gs.washington.edu)|128.95.55.224|:443... connected.\n",
            "HTTP request sent, awaiting response... 200 OK\n",
            "Length: 1044 (1.0K)\n",
            "Saving to: ‘one_psm.mgf’\n",
            "\n",
            "\rone_psm.mgf           0%[                    ]       0  --.-KB/s               \rone_psm.mgf         100%[===================>]   1.02K  --.-KB/s    in 0s      \n",
            "\n",
            "2023-05-31 17:56:54 (52.1 MB/s) - ‘one_psm.mgf’ saved [1044/1044]\n",
            "\n"
          ]
        }
      ]
    },
    {
      "cell_type": "markdown",
      "source": [
        "* To sequence your own mass spectra with Casanovo, use the denovo mode. \n",
        "* Just provide the spectra file (in mzML, mzXML, or MGF format) and path for peptide predictions in the mzTab format."
      ],
      "metadata": {
        "id": "mexk4jIYg3Aw"
      }
    },
    {
      "cell_type": "code",
      "source": [
        "!casanovo --mode=denovo --peak_path=one_psm.mgf --output=sample_output.mztab\n",
        "\n",
        "# Don't worry about the printed warnings, we will resolve/suppress those in future releases."
      ],
      "metadata": {
        "colab": {
          "base_uri": "https://localhost:8080/"
        },
        "id": "b7yHuyE17Awf",
        "outputId": "46ae93ee-0f10-46fc-ce6a-d759375a0349"
      },
      "execution_count": 18,
      "outputs": [
        {
          "output_type": "stream",
          "name": "stdout",
          "text": [
            "2023-05-31 17:57:10.680116: I tensorflow/core/platform/cpu_feature_guard.cc:182] This TensorFlow binary is optimized to use available CPU instructions in performance-critical operations.\n",
            "To enable the following instructions: AVX2 FMA, in other operations, rebuild TensorFlow with the appropriate compiler flags.\n",
            "2023-05-31 17:57:11.537895: W tensorflow/compiler/tf2tensorrt/utils/py_utils.cc:38] TF-TRT Warning: Could not find TensorRT\n",
            "Global seed set to 454\n",
            "2023-05-31 17:57:12,601 INFO [casanovo/MainProcess] casanovo._get_model_weights : Model weights file /root/.cache/casanovo/casanovo_massivekb_v3_0_0.ckpt retrieved from local cache\n",
            "2023-05-31 17:57:12,601 INFO [casanovo/MainProcess] casanovo.main : Casanovo version 3.3.0\n",
            "2023-05-31 17:57:12,602 DEBUG [casanovo/MainProcess] casanovo.main : mode = denovo\n",
            "2023-05-31 17:57:12,602 DEBUG [casanovo/MainProcess] casanovo.main : model = /root/.cache/casanovo/casanovo_massivekb_v3_0_0.ckpt\n",
            "2023-05-31 17:57:12,602 DEBUG [casanovo/MainProcess] casanovo.main : peak_path = one_psm.mgf\n",
            "2023-05-31 17:57:12,602 DEBUG [casanovo/MainProcess] casanovo.main : peak_path_val = None\n",
            "2023-05-31 17:57:12,602 DEBUG [casanovo/MainProcess] casanovo.main : config = default\n",
            "2023-05-31 17:57:12,602 DEBUG [casanovo/MainProcess] casanovo.main : output = /content/sample_output\n",
            "2023-05-31 17:57:12,602 DEBUG [casanovo/MainProcess] casanovo.main : random_seed = 454\n",
            "2023-05-31 17:57:12,602 DEBUG [casanovo/MainProcess] casanovo.main : n_peaks = 150\n",
            "2023-05-31 17:57:12,602 DEBUG [casanovo/MainProcess] casanovo.main : min_mz = 50.0\n",
            "2023-05-31 17:57:12,602 DEBUG [casanovo/MainProcess] casanovo.main : max_mz = 2500.0\n",
            "2023-05-31 17:57:12,602 DEBUG [casanovo/MainProcess] casanovo.main : min_intensity = 0.01\n",
            "2023-05-31 17:57:12,602 DEBUG [casanovo/MainProcess] casanovo.main : remove_precursor_tol = 2.0\n",
            "2023-05-31 17:57:12,603 DEBUG [casanovo/MainProcess] casanovo.main : max_charge = 10\n",
            "2023-05-31 17:57:12,603 DEBUG [casanovo/MainProcess] casanovo.main : precursor_mass_tol = 50.0\n",
            "2023-05-31 17:57:12,603 DEBUG [casanovo/MainProcess] casanovo.main : isotope_error_range = (0, 1)\n",
            "2023-05-31 17:57:12,603 DEBUG [casanovo/MainProcess] casanovo.main : min_peptide_len = 6\n",
            "2023-05-31 17:57:12,603 DEBUG [casanovo/MainProcess] casanovo.main : dim_model = 512\n",
            "2023-05-31 17:57:12,603 DEBUG [casanovo/MainProcess] casanovo.main : n_head = 8\n",
            "2023-05-31 17:57:12,603 DEBUG [casanovo/MainProcess] casanovo.main : dim_feedforward = 1024\n",
            "2023-05-31 17:57:12,603 DEBUG [casanovo/MainProcess] casanovo.main : n_layers = 9\n",
            "2023-05-31 17:57:12,603 DEBUG [casanovo/MainProcess] casanovo.main : dropout = 0.0\n",
            "2023-05-31 17:57:12,603 DEBUG [casanovo/MainProcess] casanovo.main : dim_intensity = None\n",
            "2023-05-31 17:57:12,603 DEBUG [casanovo/MainProcess] casanovo.main : custom_encoder = None\n",
            "2023-05-31 17:57:12,603 DEBUG [casanovo/MainProcess] casanovo.main : max_length = 100\n",
            "2023-05-31 17:57:12,603 DEBUG [casanovo/MainProcess] casanovo.main : residues = {'G': 57.021464, 'A': 71.037114, 'S': 87.032028, 'P': 97.052764, 'V': 99.068414, 'T': 101.04767, 'C+57.021': 160.030649, 'L': 113.084064, 'I': 113.084064, 'N': 114.042927, 'D': 115.026943, 'Q': 128.058578, 'K': 128.094963, 'E': 129.042593, 'M': 131.040485, 'H': 137.058912, 'F': 147.068414, 'R': 156.101111, 'Y': 163.063329, 'W': 186.079313, 'M+15.995': 147.0354, 'N+0.984': 115.026943, 'Q+0.984': 129.042594, '+42.011': 42.010565, '+43.006': 43.005814, '-17.027': -17.026549, '+43.006-17.027': 25.980265}\n",
            "2023-05-31 17:57:12,603 DEBUG [casanovo/MainProcess] casanovo.main : n_log = 1\n",
            "2023-05-31 17:57:12,603 DEBUG [casanovo/MainProcess] casanovo.main : tb_summarywriter = None\n",
            "2023-05-31 17:57:12,604 DEBUG [casanovo/MainProcess] casanovo.main : warmup_iters = 100000\n",
            "2023-05-31 17:57:12,604 DEBUG [casanovo/MainProcess] casanovo.main : max_iters = 600000\n",
            "2023-05-31 17:57:12,604 DEBUG [casanovo/MainProcess] casanovo.main : learning_rate = 0.0005\n",
            "2023-05-31 17:57:12,604 DEBUG [casanovo/MainProcess] casanovo.main : weight_decay = 1e-05\n",
            "2023-05-31 17:57:12,604 DEBUG [casanovo/MainProcess] casanovo.main : train_batch_size = 32\n",
            "2023-05-31 17:57:12,604 DEBUG [casanovo/MainProcess] casanovo.main : predict_batch_size = 1024\n",
            "2023-05-31 17:57:12,604 DEBUG [casanovo/MainProcess] casanovo.main : n_beams = 5\n",
            "2023-05-31 17:57:12,604 DEBUG [casanovo/MainProcess] casanovo.main : top_match = 1\n",
            "2023-05-31 17:57:12,604 DEBUG [casanovo/MainProcess] casanovo.main : logger = None\n",
            "2023-05-31 17:57:12,604 DEBUG [casanovo/MainProcess] casanovo.main : max_epochs = 30\n",
            "2023-05-31 17:57:12,604 DEBUG [casanovo/MainProcess] casanovo.main : num_sanity_val_steps = 0\n",
            "2023-05-31 17:57:12,604 DEBUG [casanovo/MainProcess] casanovo.main : train_from_scratch = True\n",
            "2023-05-31 17:57:12,604 DEBUG [casanovo/MainProcess] casanovo.main : save_model = True\n",
            "2023-05-31 17:57:12,604 DEBUG [casanovo/MainProcess] casanovo.main : model_save_folder_path = \n",
            "2023-05-31 17:57:12,604 DEBUG [casanovo/MainProcess] casanovo.main : save_weights_only = True\n",
            "2023-05-31 17:57:12,604 DEBUG [casanovo/MainProcess] casanovo.main : every_n_train_steps = 50000\n",
            "2023-05-31 17:57:12,605 DEBUG [casanovo/MainProcess] casanovo.main : no_gpu = False\n",
            "2023-05-31 17:57:12,605 DEBUG [casanovo/MainProcess] casanovo.main : n_workers = 2\n",
            "2023-05-31 17:57:12,605 INFO [casanovo/MainProcess] casanovo.main : Predict peptide sequences with Casanovo.\n",
            "2023-05-31 17:57:12,757 DEBUG [fsspec.local/MainProcess] local.__init__ : open file: /root/.cache/casanovo/casanovo_massivekb_v3_0_0.ckpt\n",
            "2023-05-31 17:57:13,059 INFO [depthcharge.data.hdf5/MainProcess] hdf5.__init__ : Reading 1 files...\n",
            "one_psm.mgf: 1spectra [00:00, 1391.61spectra/s]\n",
            "2023-05-31 17:57:13,066 WARNING [py.warnings/MainProcess] warnings._showwarnmsg : /usr/local/lib/python3.10/dist-packages/pytorch_lightning/trainer/connectors/accelerator_connector.py:589: LightningDeprecationWarning: The Trainer argument `auto_select_gpus` has been deprecated in v1.9.0 and will be removed in v2.0.0. Please use the function `pytorch_lightning.accelerators.find_usable_cuda_devices` instead.\n",
            "  rank_zero_deprecation(\n",
            "\n",
            "Predicting DataLoader 0:   0% 0/1 [00:00<?, ?it/s]2023-05-31 17:57:23,987 WARNING [py.warnings/MainProcess] warnings._showwarnmsg : /usr/local/lib/python3.10/dist-packages/torch/nn/modules/transformer.py:296: UserWarning: The PyTorch API of nested tensors is in prototype stage and will change in the near future. (Triggered internally at ../aten/src/ATen/NestedTensorImpl.cpp:177.)\n",
            "  output = torch._nested_tensor_from_mask(output, src_key_padding_mask.logical_not(), mask_check=False)\n",
            "\n",
            "2023-05-31 17:57:24,007 WARNING [py.warnings/MainProcess] warnings._showwarnmsg : /usr/local/lib/python3.10/dist-packages/torch/nn/functional.py:4999: UserWarning: Support for mismatched key_padding_mask and attn_mask is deprecated. Use same type for both instead.\n",
            "  warnings.warn(\n",
            "\n",
            "2023-05-31 17:57:24,021 WARNING [py.warnings/MainProcess] warnings._showwarnmsg : /usr/local/lib/python3.10/dist-packages/torch/nn/modules/activation.py:1160: UserWarning: Converting mask without torch.bool dtype to bool; this will negatively affect performance. Prefer to use a boolean mask directly. (Triggered internally at ../aten/src/ATen/native/transformers/attention.cpp:150.)\n",
            "  return torch._native_multi_head_attention(\n",
            "\n",
            "Predicting DataLoader 0: 100% 1/1 [00:00<00:00,  1.90it/s]\n"
          ]
        }
      ]
    },
    {
      "cell_type": "markdown",
      "source": [
        "* You will see a log file and the mzTab output file created in the directory where Casanovo was run.\n",
        "* mzTab files list predicted peptides,their identifiers and confidence scores in tab-delimited format."
      ],
      "metadata": {
        "id": "aO-g3xlyhVKz"
      }
    },
    {
      "cell_type": "code",
      "source": [
        "! cat sample_output.mztab"
      ],
      "metadata": {
        "colab": {
          "base_uri": "https://localhost:8080/"
        },
        "id": "vNMTpq0crVA_",
        "outputId": "ca09583f-683f-41e8-badd-3472cde39976"
      },
      "execution_count": 21,
      "outputs": [
        {
          "output_type": "stream",
          "name": "stdout",
          "text": [
            "MTD\tmzTab-version\t1.0.0\n",
            "MTD\tmzTab-mode\tSummary\n",
            "MTD\tmzTab-type\tIdentification\n",
            "MTD\tdescription\tCasanovo identification file sample_output\n",
            "MTD\tsoftware[1]\t[MS, MS:1003281, Casanovo, 3.3.0]\n",
            "MTD\tpsm_search_engine_score[1]\t[MS, MS:1001143, search engine specific score for PSMs, ]\n",
            "MTD\tfixed_mod[1]\t[UNIMOD, UNIMOD:4, Carbamidomethyl, ]\n",
            "MTD\tfixed_mod[1]-site\tC\n",
            "MTD\tvariable_mod[1]\t[UNIMOD, UNIMOD:7, Deamidated, ]\n",
            "MTD\tvariable_mod[1]-site\tN\n",
            "MTD\tvariable_mod[2]\t[UNIMOD, UNIMOD:7, Deamidated, ]\n",
            "MTD\tvariable_mod[2]-site\tQ\n",
            "MTD\tvariable_mod[3]\t[UNIMOD, UNIMOD:35, Oxidation, ]\n",
            "MTD\tvariable_mod[3]-site\tM\n",
            "MTD\tvariable_mod[4]\t[UNIMOD, UNIMOD:385, Ammonia-loss, ]\n",
            "MTD\tvariable_mod[4]-site\tN-term\n",
            "MTD\tvariable_mod[5]\t[UNIMOD, UNIMOD:5, Carbamyl, ]\n",
            "MTD\tvariable_mod[5]-site\tN-term\n",
            "MTD\tvariable_mod[6]\t[UNIMOD, UNIMOD:1, Acetyl, ]\n",
            "MTD\tvariable_mod[6]-site\tN-term\n",
            "MTD\tsoftware[1]-setting[1]\tmodel = /root/.cache/casanovo/casanovo_massivekb_v3_0_0.ckpt\n",
            "MTD\tsoftware[1]-setting[2]\tconfig_filename = default\n",
            "MTD\tsoftware[1]-setting[3]\trandom_seed = 454\n",
            "MTD\tsoftware[1]-setting[4]\tn_peaks = 150\n",
            "MTD\tsoftware[1]-setting[5]\tmin_mz = 50.0\n",
            "MTD\tsoftware[1]-setting[6]\tmax_mz = 2500.0\n",
            "MTD\tsoftware[1]-setting[7]\tmin_intensity = 0.01\n",
            "MTD\tsoftware[1]-setting[8]\tremove_precursor_tol = 2.0\n",
            "MTD\tsoftware[1]-setting[9]\tmax_charge = 10\n",
            "MTD\tsoftware[1]-setting[10]\tprecursor_mass_tol = 50.0\n",
            "MTD\tsoftware[1]-setting[11]\tisotope_error_range = (0, 1)\n",
            "MTD\tsoftware[1]-setting[12]\tmin_peptide_len = 6\n",
            "MTD\tsoftware[1]-setting[13]\tdim_model = 512\n",
            "MTD\tsoftware[1]-setting[14]\tn_head = 8\n",
            "MTD\tsoftware[1]-setting[15]\tdim_feedforward = 1024\n",
            "MTD\tsoftware[1]-setting[16]\tn_layers = 9\n",
            "MTD\tsoftware[1]-setting[17]\tdropout = 0.0\n",
            "MTD\tsoftware[1]-setting[18]\tdim_intensity = None\n",
            "MTD\tsoftware[1]-setting[19]\tcustom_encoder = None\n",
            "MTD\tsoftware[1]-setting[20]\tmax_length = 100\n",
            "MTD\tsoftware[1]-setting[22]\tn_log = 1\n",
            "MTD\tsoftware[1]-setting[23]\ttb_summarywriter = None\n",
            "MTD\tsoftware[1]-setting[24]\twarmup_iters = 100000\n",
            "MTD\tsoftware[1]-setting[25]\tmax_iters = 600000\n",
            "MTD\tsoftware[1]-setting[26]\tlearning_rate = 0.0005\n",
            "MTD\tsoftware[1]-setting[27]\tweight_decay = 1e-05\n",
            "MTD\tsoftware[1]-setting[28]\ttrain_batch_size = 32\n",
            "MTD\tsoftware[1]-setting[29]\tpredict_batch_size = 1024\n",
            "MTD\tsoftware[1]-setting[30]\tn_beams = 5\n",
            "MTD\tsoftware[1]-setting[31]\ttop_match = 1\n",
            "MTD\tsoftware[1]-setting[32]\tlogger = None\n",
            "MTD\tsoftware[1]-setting[33]\tmax_epochs = 30\n",
            "MTD\tsoftware[1]-setting[34]\tnum_sanity_val_steps = 0\n",
            "MTD\tsoftware[1]-setting[35]\ttrain_from_scratch = True\n",
            "MTD\tsoftware[1]-setting[36]\tsave_model = True\n",
            "MTD\tsoftware[1]-setting[37]\tmodel_save_folder_path = \n",
            "MTD\tsoftware[1]-setting[38]\tsave_weights_only = True\n",
            "MTD\tsoftware[1]-setting[39]\tevery_n_train_steps = 50000\n",
            "MTD\tsoftware[1]-setting[40]\tno_gpu = False\n",
            "MTD\tsoftware[1]-setting[41]\tn_workers = 2\n",
            "MTD\tms_run[1]-location\tfile:///content/one_psm.mgf\n",
            "PSH\tsequence\tPSM_ID\taccession\tunique\tdatabase\tdatabase_version\tsearch_engine\tsearch_engine_score[1]\tmodifications\tretention_time\tcharge\texp_mass_to_charge\tcalc_mass_to_charge\tspectra_ref\tpre\tpost\tstart\tend\topt_ms_run[1]_aa_scores\n",
            "PSM\tLAHYNKR\t1\tnull\tnull\tnull\tnull\t[MS, MS:1003281, Casanovo, 3.3.0]\t0.9897756651043892\tnull\tnull\t2.0\t451.25348\t451.25376881688004\tms_run[1]:index=0\tnull\tnull\tnull\tnull\t0.98381,0.96990,0.99012,0.99486,0.99486,0.99489,0.99489\n"
          ]
        }
      ]
    },
    {
      "cell_type": "markdown",
      "source": [
        "* There are two other options you may want to add when sequencing new spectra with Casanovo:\n",
        ">* 1 - Use a different set of pre-trained model weights, e.g. `--model=/path/to/pretrained/weights.ckpt`\n",
        ">* 2 - Use a different configuration, e.g. `--config=/path/to/config.yaml`\n",
        "\n",
        "* A sample command would look like:\n",
        "> `casanovo --mode=denovo --model=casanovo_massivekb.ckpt --peak_path=one_psm.mgf --config=custom_config.yaml --output=one_psm_output.mztab`\n",
        "\n",
        "***PRO TIP:*** You can sequence spectra from multiple input files by indicating \n",
        " `--peak_path=*.mgf`"
      ],
      "metadata": {
        "id": "GlLL5vrki98Z"
      }
    },
    {
      "cell_type": "markdown",
      "source": [
        "## Train a new model"
      ],
      "metadata": {
        "id": "q1797jDrlWcM"
      }
    },
    {
      "cell_type": "markdown",
      "source": [
        "* To train a model from scratch, run:\n"
      ],
      "metadata": {
        "id": "fV7QH-Hjluwg"
      }
    },
    {
      "cell_type": "code",
      "source": [
        "#FIXME: training currently doesn't work due to unreleased fix to a validation step bug\n",
        "!casanovo --mode=train --peak_path=one_psm.mgf  --peak_path_val=one_psm.mgf --config=custom_config.yaml"
      ],
      "metadata": {
        "id": "9LsdqAO5bxYT"
      },
      "execution_count": null,
      "outputs": []
    },
    {
      "cell_type": "markdown",
      "source": [
        "* Ground truth peptide labels must be provided for training and validation spectra, e.g. SEQ field in an MGF file.\n",
        "* In the config file, you can set the path to model weights chekpointed during training"
      ],
      "metadata": {
        "id": "NKmvyWMnmske"
      }
    },
    {
      "cell_type": "markdown",
      "source": [
        "* You can also fine-tune a previously trained model with your own data, specify the starting model weights using `--model` and set `train_from_scratch: False` in the config file.\n",
        "\n",
        "* A sample command would look like:\n",
        "> `casanovo --mode=train --model=casanovo_massivekb.ckpt --peak_path=one_psm.mgf  --peak_path_val=one_psm.mgf --config=custom_config.yaml`"
      ],
      "metadata": {
        "id": "IkJpoAc2nLFL"
      }
    }
  ]
}